{
  "nbformat": 4,
  "nbformat_minor": 0,
  "metadata": {
    "colab": {
      "name": "ワークフロー研究会.ipynb",
      "provenance": [],
      "toc_visible": true,
      "authorship_tag": "ABX9TyOd5y/qHkCduNM+TzQaBpRL",
      "include_colab_link": true
    },
    "kernelspec": {
      "name": "python3",
      "display_name": "Python 3"
    }
  },
  "cells": [
    {
      "cell_type": "markdown",
      "metadata": {
        "id": "view-in-github",
        "colab_type": "text"
      },
      "source": [
        "<a href=\"https://colab.research.google.com/github/hayashida-taihei/tbunkyudo/blob/master/%E3%83%AF%E3%83%BC%E3%82%AF%E3%83%95%E3%83%AD%E3%83%BC%E7%A0%94%E7%A9%B6%E4%BC%9A.ipynb\" target=\"_parent\"><img src=\"https://colab.research.google.com/assets/colab-badge.svg\" alt=\"Open In Colab\"/></a>"
      ]
    },
    {
      "cell_type": "markdown",
      "metadata": {
        "id": "rWCGnDyQrv1L",
        "colab_type": "text"
      },
      "source": [
        "# 第1回ワークフロー研究会"
      ]
    },
    {
      "cell_type": "markdown",
      "metadata": {
        "id": "5FjWLzq5uktc",
        "colab_type": "text"
      },
      "source": [
        "タイムスケジュール\n",
        "\n",
        "16:00～16:10\tTeams会議の注意点等の連絡\t富士ゼロックス　磯様\n",
        "\n",
        "16:10～16:15\t担当理事挨拶\t\t\tコームラ　鴻村様\n",
        "\n",
        "16:15～16:20\t担当リーダー挨拶\t\t東京文久堂　林田\n",
        "\n",
        "16:20～16:30\t研究テーマ発表（日本工業社様）\t日本工業社　宮脇様\n",
        "\n",
        "16:30～16:40\t研究テーマ発表（コームラ様）\tコームラ　鴻村様、柴原様\n",
        "\n",
        "16:40～17:50\t研究テーマ発表（河北印刷様）\t河北印刷　中條様\n",
        "\n",
        "16:50～17:00\t研究テーマ発表（東洋美術様）\t東洋美術　及川様\n",
        "\n",
        "17:00～17:10\t研究テーマ発表（東京文久堂）\t東京文久堂　松本\n",
        "\n",
        "17:10～17:20\t研究テーマ発表（野毛印刷様）\t野毛印刷　池田様、宮城様、鈴木様\n",
        "\n",
        "17:20～17:30\t研究テーマ発表（白橋様）\t白橋　丹羽様\n",
        "\n",
        "※研究テーマ発表は、出席回答が早かった順です。\n",
        "\n",
        "17:30～18:00\t次回について、その他\t\t東京文久堂　林田\n",
        "\n",
        "※時間が余ったら、AIかRPAについて少しシェアできればと思います。\n"
      ]
    },
    {
      "cell_type": "markdown",
      "metadata": {
        "id": "3LlS8POtFDr7",
        "colab_type": "text"
      },
      "source": [
        "次回、5月26日\n",
        "\n",
        "ZOOM開催予定"
      ]
    },
    {
      "cell_type": "markdown",
      "metadata": {
        "id": "iXNDrTXorn5Q",
        "colab_type": "text"
      },
      "source": [
        "#第2回ワークフロー研究会"
      ]
    },
    {
      "cell_type": "markdown",
      "metadata": {
        "id": "QvUOBpqjuM2N",
        "colab_type": "text"
      },
      "source": [
        "タイムスケジュール\n",
        "\n",
        "16:00～16:10 Zoom会議の注意点等の連絡 富士ゼロックス　磯様\n",
        "\n",
        "16:10～16:15 担当理事挨拶 コームラ　鴻村様\n",
        "\n",
        "16:15～16:20 担当リーダー挨拶 東京文久堂　林田\n",
        "\n",
        "\n",
        "---\n",
        "\n",
        "\n",
        "16:20～16:30 研究テーマおよび進捗発表\n",
        "\n",
        "> テーマ：RPA？FFCとXMF等の連携？\n",
        "\n",
        "> ㈱コームラ　鴻村様、柴原様\n",
        "\n",
        "16:30～16:40 研究進捗発表\n",
        "\n",
        "> テーマ：UiPathの活用について（仮）\n",
        "\n",
        "> 東洋美術印刷㈱　及川様\n",
        "\n",
        "16:40～16:50 研究テーマおよび進捗発表\n",
        "\n",
        "> テーマ：MAXの有効活用？\n",
        "\n",
        "> ㈱ODPセンター　林様\n",
        "\n",
        "16:50～17:00 研究テーマ発表\n",
        "\n",
        "> テーマ：FFCとXMFとの連携？\n",
        "\n",
        "> ㈱白橋　丹羽様\n",
        "\n",
        "17:00～17:10 研究テーマおよび進捗発表 \n",
        "\n",
        "> テーマ：FFCの検査機能、自動化について？\n",
        "\n",
        "> 河北印刷㈱　中條様\n",
        "\n",
        "17:10～17:20 研究テーマおよび進捗発表\n",
        "\n",
        "> FFCとWEBとの連携？\n",
        "\n",
        "> ㈱日本工業社　宮脇様\n",
        "\n",
        "17:20～17:30 研究テーマおよび進捗発表\n",
        "\n",
        "> テーマ：？\n",
        "\n",
        "> 共立速記印刷㈱\n",
        "\n",
        "17:30～17:40 研究進捗発表\n",
        "\n",
        "> テーマ：FFC汎用フローの作成\n",
        "\n",
        "> 東京文久堂　松本\n",
        "\n",
        "17:40～17:50 研究テーマおよび進捗発表\n",
        "\n",
        "> テーマ：FFC汎用フローの作成\n",
        "\n",
        "> ㈱オンデマンド　生島様\n",
        "\n",
        "※研究テーマ発表は、出席回答が早かった順です。\n",
        "\n",
        "\n",
        "---\n",
        "\n",
        "\n",
        "17:50～18:00 次回について、その他 東京文久堂　林田\n",
        "\n",
        "> 時間が余ったら、AIかRPAの何かしらを紹介します。\n",
        "\n"
      ]
    }
  ]
}